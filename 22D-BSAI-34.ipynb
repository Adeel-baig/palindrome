{
  "metadata": {
    "kernelspec": {
      "name": "python",
      "display_name": "Python (Pyodide)",
      "language": "python"
    },
    "language_info": {
      "codemirror_mode": {
        "name": "python",
        "version": 3
      },
      "file_extension": ".py",
      "mimetype": "text/x-python",
      "name": "python",
      "nbconvert_exporter": "python",
      "pygments_lexer": "ipython3",
      "version": "3.8"
    }
  },
  "nbformat_minor": 5,
  "nbformat": 4,
  "cells": [
    {
      "id": "44ca4370-7e6a-43e0-b2fe-d1bc6a0196be",
      "cell_type": "code",
      "source": "def long_Palindrome(s):\n    charSet = set()\n    length = 0\n    finalPalindrome = []\n    \n    for char in s:\n        if char in charSet:\n            charSet.remove(char)\n            length += 2\n            finalPalindrome.append(char)\n        else:\n            charSet.add(char)\n            \n    midChar = charSet.pop() if charSet else \"\"\n\n    long_PalindromeStr = \"\".join(finalPalindrome) + midChar + \"\".join(finalPalindrome[::-1])\n\n    print(f\"Longest Palin : {long_PalindromeStr}\")\n    print(f\"Lenght  : {length + (1 if midChar else 0)}\")\n\n    \nprint(long_Palindrome(\"abccccdd\"))\nprint(long_Palindrome(\"a\"))\n          ",
      "metadata": {
        "trusted": true
      },
      "outputs": [
        {
          "name": "stdout",
          "output_type": "stream",
          "text": "Longest Palin : ccdbdcc\nLenght  : 7\nNone\nLongest Palin : a\nLenght  : 1\nNone\n"
        }
      ],
      "execution_count": 20
    }
  ]
}